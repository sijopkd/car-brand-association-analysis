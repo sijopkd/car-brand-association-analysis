{
 "cells": [
  {
   "cell_type": "markdown",
   "metadata": {},
   "source": [
    "# Text Analysis Homework 1"
   ]
  },
  {
   "cell_type": "markdown",
   "metadata": {},
   "source": [
    "Aadithya Anandaraj, LaShay Fontenot, Haritha Maheshkumar, Catherine Miao, Sijo VM"
   ]
  },
  {
   "cell_type": "markdown",
   "metadata": {},
   "source": [
    "Files to attach : text_clean, attributes, aspirational words"
   ]
  },
  {
   "cell_type": "code",
   "execution_count": 1,
   "metadata": {},
   "outputs": [],
   "source": [
    "import pandas as pd\n",
    "import numpy as np\n",
    "import nltk\n",
    "import matplotlib.pyplot as plt\n",
    "from nltk.corpus import stopwords\n",
    "from nltk.tokenize import sent_tokenize, word_tokenize\n",
    "from string import punctuation\n",
    "from nltk import FreqDist"
   ]
  },
  {
   "cell_type": "markdown",
   "metadata": {},
   "source": [
    "## Scraper"
   ]
  },
  {
   "cell_type": "markdown",
   "metadata": {},
   "source": [
    "Code below was run in Colab to pull from the Mid Size Sedan forum : https://forums.edmunds.com/discussion/7526/general/x/midsize-sedans-2-0/p1"
   ]
  },
  {
   "cell_type": "code",
   "execution_count": 4,
   "metadata": {},
   "outputs": [
    {
     "name": "stdout",
     "output_type": "stream",
     "text": [
      "Requirement already satisfied: selenium in c:\\users\\sijop\\anaconda3\\lib\\site-packages (3.141.0)\n",
      "Requirement already satisfied: urllib3 in c:\\users\\sijop\\anaconda3\\lib\\site-packages (from selenium) (1.24.2)\n"
     ]
    },
    {
     "name": "stderr",
     "output_type": "stream",
     "text": [
      "'apt' is not recognized as an internal or external command,\n",
      "operable program or batch file.\n",
      "'cp' is not recognized as an internal or external command,\n",
      "operable program or batch file.\n"
     ]
    }
   ],
   "source": [
    "!pip install selenium\n",
    "# !apt-get -q update # to update ubuntu to correctly run apt install\n",
    "!apt install -yq chromium-chromedriver\n",
    "!cp /usr/lib/chromium-browser/chromedriver /usr/bin\n",
    "\n",
    "import sys\n",
    "sys.path.insert(0,'/usr/lib/chromium-browser/chromedriver')\n",
    "from selenium import webdriver\n",
    "chrome_options = webdriver.ChromeOptions()\n",
    "chrome_options.add_argument('--headless')\n",
    "chrome_options.add_argument('--no-sandbox')\n",
    "chrome_options.add_argument('--disable-dev-shm-usage')"
   ]
  },
  {
   "cell_type": "code",
   "execution_count": 1,
   "metadata": {},
   "outputs": [],
   "source": [
    "driver = webdriver.Chrome('chromedriver', options=chrome_options)\n",
    "# driver.get('https://forums.edmunds.com/discussion/2864/general/x/entry-level-luxury-performance-sedans/')\n",
    "\n",
    "comments = pd.DataFrame(columns = ['Date','user_id','comments'])\n",
    "\n",
    "for i in range(20,50):\n",
    "  driver.get('https://forums.edmunds.com/discussion/7526/general/x/midsize-sedans-2-0/p'+str(i))\n",
    "  for j in range(1,50):\n",
    "    #Extract dates from for each user on a page\n",
    "    user_date = driver.find_elements_by_xpath('/html/body/div[1]/main/div/div[3]/div[5]/div[1]/ul/li[' +str(j)+ ']/div/div[2]/div[2]/span/a/time')[0]\n",
    "    date = user_date.get_attribute('title')\n",
    "\n",
    "    #Extract user ids from each user on a page\n",
    "    userid_element = driver.find_elements_by_xpath('/html/body/div[1]/main/div/div[3]/div[5]/div[1]/ul/li[' +str(j)+ ']/div/div[2]/div[1]/span[1]/a[2]')[0]\n",
    "    userid = userid_element.text\n",
    "\n",
    "    #Extract Message for each user on a page\n",
    "    user_message = driver.find_elements_by_xpath('/html/body/div[1]/main/div/div[3]/div[5]/div[1]/ul/li[' +str(j)+ ']/div/div[3]/div/div[1]')[0]\n",
    "    comment = user_message.text\n",
    "                                   \n",
    "    #Adding date, userid and comment for each user in a dataframe    \n",
    "    comments.loc[len(comments)] = [date,userid,comment]"
   ]
  },
  {
   "cell_type": "markdown",
   "metadata": {},
   "source": [
    "## Task A : Identify top 10 brands by frequency & MDS"
   ]
  },
  {
   "cell_type": "code",
   "execution_count": 13,
   "metadata": {},
   "outputs": [
    {
     "data": {
      "text/plain": [
       "(4897, 4)"
      ]
     },
     "execution_count": 13,
     "metadata": {},
     "output_type": "execute_result"
    }
   ],
   "source": [
    "#Read file\n",
    "file=pd.read_csv(\"Text_forum_csv.csv\")\n",
    "file=file.dropna()\n",
    "file.shape"
   ]
  },
  {
   "cell_type": "code",
   "execution_count": 14,
   "metadata": {},
   "outputs": [],
   "source": [
    "#remove punctuation\n",
    "def remove_punctuation(comment):\n",
    "    for term in punctuation:\n",
    "        comment = comment.replace(term,'')\n",
    "    return comment\n",
    "\n",
    "file['message'] = file['comments'].apply(remove_punctuation)"
   ]
  },
  {
   "cell_type": "code",
   "execution_count": 15,
   "metadata": {},
   "outputs": [],
   "source": [
    "#make all lowercase\n",
    "def lower(comment):\n",
    "    return comment.lower()\n",
    "\n",
    "file['lower_message'] = file['message'].apply(lower)"
   ]
  },
  {
   "cell_type": "code",
   "execution_count": 16,
   "metadata": {},
   "outputs": [],
   "source": [
    "#models to brands\n",
    "model=pd.read_csv(\"models (5).csv\", col)"
   ]
  },
  {
   "cell_type": "code",
   "execution_count": 19,
   "metadata": {},
   "outputs": [
    {
     "data": {
      "text/plain": [
       "Index(['acura', 'integra'], dtype='object')"
      ]
     },
     "execution_count": 19,
     "metadata": {},
     "output_type": "execute_result"
    }
   ],
   "source": [
    "model.columns"
   ]
  },
  {
   "cell_type": "code",
   "execution_count": 3,
   "metadata": {},
   "outputs": [],
   "source": [
    "def change_to_brand(str):\n",
    "    for i in range(0,model.shape[0]):\n",
    "        str=str.replace(model['Models'][i].lower(),model['Brand'][i].lower())\n",
    "    return str\n",
    "\n",
    "file['change_to_brand'] = file['lower_message'].apply(change_to_brand)"
   ]
  },
  {
   "cell_type": "code",
   "execution_count": 4,
   "metadata": {},
   "outputs": [],
   "source": [
    "#remove stop words\n",
    "stop_words = set(stopwords.words('english')) \n",
    "file['words'] = file['change_to_brand'].apply(word_tokenize)\n",
    " \n",
    "def remove_stopwords(word_tokens):\n",
    "    return [word for word in word_tokens if not word in stop_words] \n",
    "\n",
    "file['final']=file['words'].apply(remove_stopwords)"
   ]
  },
  {
   "cell_type": "code",
   "execution_count": 5,
   "metadata": {},
   "outputs": [],
   "source": [
    "#create final clean file\n",
    "file=file[['Date','user_id','lower_message','final']]\n",
    "file.to_csv('Text_clean.csv')"
   ]
  },
  {
   "cell_type": "code",
   "execution_count": 6,
   "metadata": {},
   "outputs": [],
   "source": [
    "#top 10 brands\n",
    "words = []\n",
    "for item in file.index:\n",
    "    words = words+(file['final'][item])"
   ]
  },
  {
   "cell_type": "code",
   "execution_count": 11,
   "metadata": {},
   "outputs": [
    {
     "data": {
      "text/plain": [
       "40"
      ]
     },
     "execution_count": 11,
     "metadata": {},
     "output_type": "execute_result"
    }
   ],
   "source": [
    "word_frequency = nltk.FreqDist(words)\n",
    "model_list = model['Brand'].drop_duplicates().tolist()\n",
    "len(model_list)"
   ]
  },
  {
   "cell_type": "code",
   "execution_count": 12,
   "metadata": {},
   "outputs": [
    {
     "name": "stdout",
     "output_type": "stream",
     "text": [
      "Frequency of top 10 brands are  [('honda', 4931), ('ford', 2657), ('toyota', 1889), ('hyundai', 1217), ('nissan', 857), ('chevrolet', 563), ('saturn', 509), ('mazda', 474), ('chrysler', 409), ('subaru', 272)]\n"
     ]
    }
   ],
   "source": [
    "common_words = word_frequency.most_common(150)\n",
    "top_brands = []\n",
    "for (key,value) in common_words:\n",
    "    if key in model_list:\n",
    "        if key not in [\"car\", \"seat\", \"sedan\", \"problem\"]:\n",
    "            model_counts = (key,value)\n",
    "            top_brands.append(model_counts)   \n",
    "print(\"Frequency of top 10 brands are \", top_brands)"
   ]
  },
  {
   "cell_type": "code",
   "execution_count": 93,
   "metadata": {},
   "outputs": [],
   "source": [
    "top_ten=[]\n",
    "for key,value in top_brands[:10]:\n",
    "    top_ten.append(key)"
   ]
  },
  {
   "cell_type": "code",
   "execution_count": 167,
   "metadata": {},
   "outputs": [],
   "source": [
    "def brand_lift(msg):\n",
    "    if brand in msg:\n",
    "        return 1\n",
    "    else:\n",
    "        return 0"
   ]
  },
  {
   "cell_type": "code",
   "execution_count": 94,
   "metadata": {},
   "outputs": [],
   "source": [
    "top_df=pd.DataFrame(columns=top_ten)\n",
    "for brand in top_brand_list:\n",
    "    top_df[brand]=file['final'].apply(brand_lift)"
   ]
  },
  {
   "cell_type": "code",
   "execution_count": 98,
   "metadata": {},
   "outputs": [],
   "source": [
    "top_ten2=[]\n",
    "for key,value in top_brands[:10]:\n",
    "    top_ten2.append(key)\n",
    "\n",
    "top_df2=pd.DataFrame(columns=top_ten2)\n",
    "for brand in top_ten2:\n",
    "    top_df2[brand]=file['final'].apply(brand_lift)"
   ]
  },
  {
   "cell_type": "code",
   "execution_count": 143,
   "metadata": {},
   "outputs": [],
   "source": [
    "twobytwo_vf=pd.DataFrame(columns=top_ten2)\n",
    "for i in range(len(top_ten)):\n",
    "    for j in range(len(top_ten2)):\n",
    "        num=(top_df[top_ten[i]]+top_df2[top_ten2[j]]>1).sum()\n",
    "        den=top_df[top_ten[i]].sum()*top_df2[top_ten2[j]].sum()\n",
    "        lift=len(file)*num/den\n",
    "        twobytwo_vf.loc[top_ten[i],top_ten2[j]]=lift"
   ]
  },
  {
   "cell_type": "code",
   "execution_count": 144,
   "metadata": {},
   "outputs": [
    {
     "name": "stderr",
     "output_type": "stream",
     "text": [
      "C:\\Users\\lasha\\Anaconda2\\envs\\Python 3\\lib\\site-packages\\ipykernel_launcher.py:1: FutureWarning: Using a non-tuple sequence for multidimensional indexing is deprecated; use `arr[tuple(seq)]` instead of `arr[seq]`. In the future this will be interpreted as an array index, `arr[np.array(seq)]`, which will result either in an error or a different result.\n",
      "  \"\"\"Entry point for launching an IPython kernel.\n"
     ]
    }
   ],
   "source": [
    "twobytwo_vf.values[[np.arange(twobytwo_vf.shape[0])]*2] = np.nan"
   ]
  },
  {
   "cell_type": "code",
   "execution_count": 163,
   "metadata": {},
   "outputs": [
    {
     "data": {
      "text/html": [
       "<div>\n",
       "<style scoped>\n",
       "    .dataframe tbody tr th:only-of-type {\n",
       "        vertical-align: middle;\n",
       "    }\n",
       "\n",
       "    .dataframe tbody tr th {\n",
       "        vertical-align: top;\n",
       "    }\n",
       "\n",
       "    .dataframe thead th {\n",
       "        text-align: right;\n",
       "    }\n",
       "</style>\n",
       "<table border=\"1\" class=\"dataframe\">\n",
       "  <thead>\n",
       "    <tr style=\"text-align: right;\">\n",
       "      <th></th>\n",
       "      <th>honda</th>\n",
       "      <th>ford</th>\n",
       "      <th>toyota</th>\n",
       "      <th>hyundai</th>\n",
       "      <th>nissan</th>\n",
       "      <th>chevrolet</th>\n",
       "      <th>saturn</th>\n",
       "      <th>mazda</th>\n",
       "      <th>chrysler</th>\n",
       "      <th>subaru</th>\n",
       "    </tr>\n",
       "  </thead>\n",
       "  <tbody>\n",
       "    <tr>\n",
       "      <td>honda</td>\n",
       "      <td>NaN</td>\n",
       "      <td>1.11818</td>\n",
       "      <td>1.69599</td>\n",
       "      <td>1.51545</td>\n",
       "      <td>1.45462</td>\n",
       "      <td>1.357</td>\n",
       "      <td>1.4546</td>\n",
       "      <td>1.06793</td>\n",
       "      <td>1.38485</td>\n",
       "      <td>1.48261</td>\n",
       "    </tr>\n",
       "    <tr>\n",
       "      <td>ford</td>\n",
       "      <td>1.11818</td>\n",
       "      <td>NaN</td>\n",
       "      <td>1.42254</td>\n",
       "      <td>1.17972</td>\n",
       "      <td>1.22036</td>\n",
       "      <td>1.47672</td>\n",
       "      <td>1.33215</td>\n",
       "      <td>1.25945</td>\n",
       "      <td>1.34305</td>\n",
       "      <td>0.950706</td>\n",
       "    </tr>\n",
       "    <tr>\n",
       "      <td>toyota</td>\n",
       "      <td>1.69599</td>\n",
       "      <td>1.42254</td>\n",
       "      <td>NaN</td>\n",
       "      <td>1.82606</td>\n",
       "      <td>2.11744</td>\n",
       "      <td>2.10408</td>\n",
       "      <td>2.35225</td>\n",
       "      <td>1.05846</td>\n",
       "      <td>1.38382</td>\n",
       "      <td>1.26854</td>\n",
       "    </tr>\n",
       "    <tr>\n",
       "      <td>hyundai</td>\n",
       "      <td>1.51545</td>\n",
       "      <td>1.17972</td>\n",
       "      <td>1.82606</td>\n",
       "      <td>NaN</td>\n",
       "      <td>1.79151</td>\n",
       "      <td>1.72289</td>\n",
       "      <td>1.77183</td>\n",
       "      <td>1.07948</td>\n",
       "      <td>1.73355</td>\n",
       "      <td>1.99129</td>\n",
       "    </tr>\n",
       "    <tr>\n",
       "      <td>nissan</td>\n",
       "      <td>1.45462</td>\n",
       "      <td>1.22036</td>\n",
       "      <td>2.11744</td>\n",
       "      <td>1.79151</td>\n",
       "      <td>NaN</td>\n",
       "      <td>2.1473</td>\n",
       "      <td>2.63605</td>\n",
       "      <td>1.25645</td>\n",
       "      <td>1.19714</td>\n",
       "      <td>2.0092</td>\n",
       "    </tr>\n",
       "    <tr>\n",
       "      <td>chevrolet</td>\n",
       "      <td>1.357</td>\n",
       "      <td>1.47672</td>\n",
       "      <td>2.10408</td>\n",
       "      <td>1.72289</td>\n",
       "      <td>2.1473</td>\n",
       "      <td>NaN</td>\n",
       "      <td>5.39927</td>\n",
       "      <td>0.863486</td>\n",
       "      <td>1.88253</td>\n",
       "      <td>1.12437</td>\n",
       "    </tr>\n",
       "    <tr>\n",
       "      <td>saturn</td>\n",
       "      <td>1.4546</td>\n",
       "      <td>1.33215</td>\n",
       "      <td>2.35225</td>\n",
       "      <td>1.77183</td>\n",
       "      <td>2.63605</td>\n",
       "      <td>5.39927</td>\n",
       "      <td>NaN</td>\n",
       "      <td>0.919728</td>\n",
       "      <td>1.1458</td>\n",
       "      <td>1.5968</td>\n",
       "    </tr>\n",
       "    <tr>\n",
       "      <td>mazda</td>\n",
       "      <td>1.06793</td>\n",
       "      <td>1.25945</td>\n",
       "      <td>1.05846</td>\n",
       "      <td>1.07948</td>\n",
       "      <td>1.25645</td>\n",
       "      <td>0.863486</td>\n",
       "      <td>0.919728</td>\n",
       "      <td>NaN</td>\n",
       "      <td>0.732974</td>\n",
       "      <td>2.26997</td>\n",
       "    </tr>\n",
       "    <tr>\n",
       "      <td>chrysler</td>\n",
       "      <td>1.38485</td>\n",
       "      <td>1.34305</td>\n",
       "      <td>1.38382</td>\n",
       "      <td>1.73355</td>\n",
       "      <td>1.19714</td>\n",
       "      <td>1.88253</td>\n",
       "      <td>1.1458</td>\n",
       "      <td>0.732974</td>\n",
       "      <td>NaN</td>\n",
       "      <td>0.795355</td>\n",
       "    </tr>\n",
       "    <tr>\n",
       "      <td>subaru</td>\n",
       "      <td>1.48261</td>\n",
       "      <td>0.950706</td>\n",
       "      <td>1.26854</td>\n",
       "      <td>1.99129</td>\n",
       "      <td>2.0092</td>\n",
       "      <td>1.12437</td>\n",
       "      <td>1.5968</td>\n",
       "      <td>2.26997</td>\n",
       "      <td>0.795355</td>\n",
       "      <td>NaN</td>\n",
       "    </tr>\n",
       "  </tbody>\n",
       "</table>\n",
       "</div>"
      ],
      "text/plain": [
       "             honda      ford   toyota  hyundai   nissan chevrolet    saturn  \\\n",
       "honda          NaN   1.11818  1.69599  1.51545  1.45462     1.357    1.4546   \n",
       "ford       1.11818       NaN  1.42254  1.17972  1.22036   1.47672   1.33215   \n",
       "toyota     1.69599   1.42254      NaN  1.82606  2.11744   2.10408   2.35225   \n",
       "hyundai    1.51545   1.17972  1.82606      NaN  1.79151   1.72289   1.77183   \n",
       "nissan     1.45462   1.22036  2.11744  1.79151      NaN    2.1473   2.63605   \n",
       "chevrolet    1.357   1.47672  2.10408  1.72289   2.1473       NaN   5.39927   \n",
       "saturn      1.4546   1.33215  2.35225  1.77183  2.63605   5.39927       NaN   \n",
       "mazda      1.06793   1.25945  1.05846  1.07948  1.25645  0.863486  0.919728   \n",
       "chrysler   1.38485   1.34305  1.38382  1.73355  1.19714   1.88253    1.1458   \n",
       "subaru     1.48261  0.950706  1.26854  1.99129   2.0092   1.12437    1.5968   \n",
       "\n",
       "              mazda  chrysler    subaru  \n",
       "honda       1.06793   1.38485   1.48261  \n",
       "ford        1.25945   1.34305  0.950706  \n",
       "toyota      1.05846   1.38382   1.26854  \n",
       "hyundai     1.07948   1.73355   1.99129  \n",
       "nissan      1.25645   1.19714    2.0092  \n",
       "chevrolet  0.863486   1.88253   1.12437  \n",
       "saturn     0.919728    1.1458    1.5968  \n",
       "mazda           NaN  0.732974   2.26997  \n",
       "chrysler   0.732974       NaN  0.795355  \n",
       "subaru      2.26997  0.795355       NaN  "
      ]
     },
     "execution_count": 163,
     "metadata": {},
     "output_type": "execute_result"
    }
   ],
   "source": [
    "twobytwo_vf"
   ]
  },
  {
   "cell_type": "markdown",
   "metadata": {},
   "source": [
    "MDS Plot"
   ]
  },
  {
   "cell_type": "code",
   "execution_count": 164,
   "metadata": {},
   "outputs": [],
   "source": [
    "top10 = pd.Series(top_ten)\n",
    "top10_vf=top10.to_frame().reset_index()\n",
    "top10_vf = top10_vf.rename(columns= {0: 'brands'})\n",
    "top10_vf.index.name = 'index'"
   ]
  },
  {
   "cell_type": "code",
   "execution_count": 165,
   "metadata": {},
   "outputs": [],
   "source": [
    "#Calculating dissimilarity matrix required for MDS\n",
    "dissimilarity_matrix = 1/twobytwo_vf\n",
    "np.fill_diagonal(dissimilarity_matrix.values, 1)"
   ]
  },
  {
   "cell_type": "code",
   "execution_count": 166,
   "metadata": {},
   "outputs": [
    {
     "name": "stdout",
     "output_type": "stream",
     "text": [
      "Populating the interactive namespace from numpy and matplotlib\n"
     ]
    },
    {
     "name": "stderr",
     "output_type": "stream",
     "text": [
      "C:\\Users\\lasha\\Anaconda2\\envs\\Python 3\\lib\\site-packages\\IPython\\core\\magics\\pylab.py:160: UserWarning: pylab import has clobbered these variables: ['seed']\n",
      "`%matplotlib` prevents importing * from pylab and numpy\n",
      "  \"\\n`%matplotlib` prevents importing * from pylab and numpy\"\n"
     ]
    },
    {
     "data": {
      "image/png": "[encoded data removed]",
      "text/plain": [
       "<Figure size 432x288 with 1 Axes>"
      ]
     },
     "metadata": {
      "needs_background": "light"
     },
     "output_type": "display_data"
    }
   ],
   "source": [
    "#4.c.MDS Plotting\n",
    "from sklearn import manifold\n",
    "import matplotlib.pyplot as plt\n",
    "%pylab inline\n",
    "seed = np.random.RandomState(seed=3)\n",
    "mds = manifold.MDS(n_components=2, max_iter=3000, eps=1e-9, \n",
    "      random_state=seed, dissimilarity=\"precomputed\", n_jobs=1)\n",
    "results = mds.fit(dissimilarity_matrix)\n",
    "coords = results.embedding_\n",
    "\n",
    "plt.subplots_adjust(bottom = 0.1)\n",
    "plt.scatter(\n",
    "    coords[:, 0], coords[:, 1], marker = 'o'\n",
    "    )\n",
    "for label, x, y in zip(top10_vf['brands'], coords[:, 0], coords[:, 1]):\n",
    "    \n",
    "    plt.annotate(\n",
    "        label,\n",
    "        xy = (x, y), xytext = (-30, 30),\n",
    "        textcoords = 'offset points', ha = 'right', va = 'bottom',\n",
    "        bbox = dict(boxstyle = 'round,pad=0.5', fc = 'yellow', alpha = 0.5),\n",
    "        arrowprops = dict(arrowstyle = '->', connectionstyle = 'arc3,rad=0'))\n",
    "\n",
    "plt.show()"
   ]
  },
  {
   "cell_type": "markdown",
   "metadata": {},
   "source": [
    "## Task B : Insights"
   ]
  },
  {
   "cell_type": "markdown",
   "metadata": {},
   "source": [
    "**Insights to the Brand Manager of Saturn:** \n",
    "\n",
    "*Introduction*: The Highest Association Lift value is observed between Saturn and Chevrolet brands (5.399). Our information was extracted from a 2007 forum discussion on 'Mid-Sized' Sedans. \n",
    "\n",
    "*Findings & Insights*: The Mid-Sized Sedans releases of Saturn and Chevrolet in 2006-2007 were Saturn Vue 2007 and Chevrolet Equinox. Both of these brands were perceived 'similarly' by customers. Standing true to customers' perception of brands, they were brands with high similarity. They were two of the first users of 'GM Theta platform', with their 2007 versions holding GM badges, productions either owned or co-owned by GM. They had a lot of overlapping/similar features. They were even priced similarly at just a 1035 dollar difference. (Vue was priced at 24,315 and Equinox was priced at 23,280)\n",
    "\n",
    "In the 'Product Excellence' Vs 'Cost of ownership' matrix (these 2 measures account for 91% of the difference in how customers perceive automotive brands), both of them fall in the largest middle area of 'Mass-Market' segment, like most of our other brands on the list, except that Saturn and Chevrolet were much closer to each other than the rest. Nissan also falls under this smaller region (which is also indicated by our lift index of 2.63 between Saturn and Nissan!!). Similar brands, especially in the 'Mass-Market' region, need to differentiate themselves by one or two distinctive characteristics so they can gain an edge over their competition. \n",
    "\n",
    "*Analysis and Recommendation:* Saturn Vue 2007 may have a lot of its features similar to Chevrolet Equinox, but their 'Safety' feature is a cleansweep!  The IIHS (Insurance Institute for Highway) rated the Vue a Good overall rating in the front offset crash test. The Equinox's first generation (2005-2009) didn't focus much on safety (this kicked in much later, in the second generation 2010-2017 versions!). In-fact one of the competitive analysis rated their 'Safety' as 9.7 as opposed to 8.2 of Equinox. But most commercials of Vue, didn't advertise 'Safety' as much. The focus was mostly on the Honda 250-horsepower 'J35A3' engine - While that was a huge advantage, it didn't do much from a customer perception of brands standpoint. Our recommendation to Saturn in 2007 would have been to position 'Safety' as one of their differentiating factors. Since Saturn's vue is in the mass-market segment, catering to a group of customers' who want to buy the most cost-effective and good performing cars, we are sure that they would consider Safety as one of their top preferences. So having such ads carrying empathetic messages like 'your safety is our priority', 'your kids are safe with us' could have been a good starting point. \n",
    "\n",
    "Sources: https://www.strategy-business.com/article/03302?gko=32b46\n",
    "https://en.wikipedia.org/wiki/Saturn_Vue\n",
    "https://en.wikipedia.org/wiki/Chevrolet_Equinox "
   ]
  },
  {
   "cell_type": "markdown",
   "metadata": {},
   "source": [
    "## Task C : What are 5 most frequently mentioned attributes of cars in the discussions? "
   ]
  },
  {
   "cell_type": "code",
   "execution_count": 14,
   "metadata": {},
   "outputs": [],
   "source": [
    "model_list=model['Brand'].unique()\n",
    "def remove_brand(words):\n",
    "    return [word for word in words if not word in model_list] \n",
    "\n",
    "file['final_words']=file['final'].apply(remove_brand)"
   ]
  },
  {
   "cell_type": "code",
   "execution_count": 15,
   "metadata": {},
   "outputs": [],
   "source": [
    "#check for attributes\n",
    "word_freq = nltk.FreqDist(words)\n",
    "#word_freq\n",
    "common_words = word_freq.most_common(1000)\n",
    "#common_words"
   ]
  },
  {
   "cell_type": "code",
   "execution_count": 18,
   "metadata": {},
   "outputs": [],
   "source": [
    "#read in attribute file created\n",
    "attr=pd.read_csv('Attributes.csv')\n",
    "#attr"
   ]
  },
  {
   "cell_type": "code",
   "execution_count": 19,
   "metadata": {},
   "outputs": [],
   "source": [
    "def change_to_attr(str):\n",
    "    for i in range(0,attr.shape[0]):\n",
    "        str=str.replace(attr['Feature'][i].lower(),attr['Attribute'][i].lower())\n",
    "    return str \n",
    "\n",
    "file['change_to_attr']=file['lower_message'].apply(change_to_attr)"
   ]
  },
  {
   "cell_type": "code",
   "execution_count": 20,
   "metadata": {},
   "outputs": [],
   "source": [
    "stop_words = set(stopwords.words('english')) \n",
    "file['attr_words'] = file['change_to_attr'].apply(word_tokenize)\n",
    " \n",
    "def remove_stopwords(word_tokens):\n",
    "    return [word for word in word_tokens if not word in stop_words] \n",
    "\n",
    "file['final_words']=file['attr_words'].apply(remove_stopwords)"
   ]
  },
  {
   "cell_type": "code",
   "execution_count": 21,
   "metadata": {},
   "outputs": [],
   "source": [
    "words_count = []\n",
    "for item in file.index:\n",
    "    words_count = words_count+(file['final_words'][item])"
   ]
  },
  {
   "cell_type": "code",
   "execution_count": 23,
   "metadata": {},
   "outputs": [],
   "source": [
    "attr_frequency = nltk.FreqDist(words_count)\n",
    "#attr_frequency"
   ]
  },
  {
   "cell_type": "code",
   "execution_count": 24,
   "metadata": {},
   "outputs": [],
   "source": [
    "attr_list = attr['Attribute'].drop_duplicates().tolist()"
   ]
  },
  {
   "cell_type": "code",
   "execution_count": 25,
   "metadata": {},
   "outputs": [
    {
     "data": {
      "text/plain": [
       "[('performance', 3149),\n",
       " ('design', 2820),\n",
       " ('engine', 2058),\n",
       " ('handling', 1797),\n",
       " ('fuel', 1625)]"
      ]
     },
     "execution_count": 25,
     "metadata": {},
     "output_type": "execute_result"
    }
   ],
   "source": [
    "common_attr = attr_frequency.most_common(3000)\n",
    "top_attr = []\n",
    "for (key,value) in common_attr:\n",
    "    if key in attr_list:\n",
    "        attr_counts = (key,value)\n",
    "        top_attr.append(attr_counts)  \n",
    "\n",
    "top_attributes = top_attr[:5]\n",
    "top_attributes"
   ]
  },
  {
   "cell_type": "code",
   "execution_count": 26,
   "metadata": {},
   "outputs": [
    {
     "data": {
      "text/plain": [
       "['honda', 'ford', 'toyota', 'hyundai', 'nissan']"
      ]
     },
     "execution_count": 26,
     "metadata": {},
     "output_type": "execute_result"
    }
   ],
   "source": [
    "#calculate lifts of top brands and attributes \n",
    "top_brand_list=[]\n",
    "for key,value in top_brands[:5]:\n",
    "    top_brand_list.append(key)\n",
    "    \n",
    "top_brand_list"
   ]
  },
  {
   "cell_type": "code",
   "execution_count": 27,
   "metadata": {},
   "outputs": [],
   "source": [
    "top_brand_df=pd.DataFrame(columns=top_brand_list)"
   ]
  },
  {
   "cell_type": "code",
   "execution_count": 28,
   "metadata": {},
   "outputs": [],
   "source": [
    "for brand in top_brand_list:\n",
    "    top_brand_df[brand]=file['final'].apply(brand_lift)"
   ]
  },
  {
   "cell_type": "code",
   "execution_count": 29,
   "metadata": {},
   "outputs": [],
   "source": [
    "top_attribute_list=[]\n",
    "for key,value in top_attributes:\n",
    "    top_attribute_list.append(key)"
   ]
  },
  {
   "cell_type": "code",
   "execution_count": 30,
   "metadata": {},
   "outputs": [],
   "source": [
    "top_attribute_df=pd.DataFrame(columns=top_attribute_list)\n",
    "def attr_lift(msg):\n",
    "    if attr in msg:\n",
    "        return 1\n",
    "    else:\n",
    "        return 0"
   ]
  },
  {
   "cell_type": "code",
   "execution_count": 31,
   "metadata": {},
   "outputs": [],
   "source": [
    "for attr in top_attribute_list:\n",
    "    top_attribute_df[attr]=file['attr_words'].apply(attr_lift)"
   ]
  },
  {
   "cell_type": "code",
   "execution_count": 32,
   "metadata": {},
   "outputs": [],
   "source": [
    "lift_df=pd.DataFrame(columns=top_attribute_list)\n",
    "for i in range(len(top_brand_list)):\n",
    "    for j in range(len(top_attribute_list)):\n",
    "        num=(top_brand_df[top_brand_list[i]]+top_attribute_df[top_attribute_list[j]]>1).sum()\n",
    "        den=top_brand_df[top_brand_list[i]].sum()*top_attribute_df[top_attribute_list[j]].sum()\n",
    "        lift=len(file)*num/den\n",
    "        lift_df.loc[top_brand_list[i],top_attribute_list[j]]=lift"
   ]
  },
  {
   "cell_type": "code",
   "execution_count": 33,
   "metadata": {},
   "outputs": [
    {
     "data": {
      "text/html": [
       "<div>\n",
       "<style scoped>\n",
       "    .dataframe tbody tr th:only-of-type {\n",
       "        vertical-align: middle;\n",
       "    }\n",
       "\n",
       "    .dataframe tbody tr th {\n",
       "        vertical-align: top;\n",
       "    }\n",
       "\n",
       "    .dataframe thead th {\n",
       "        text-align: right;\n",
       "    }\n",
       "</style>\n",
       "<table border=\"1\" class=\"dataframe\">\n",
       "  <thead>\n",
       "    <tr style=\"text-align: right;\">\n",
       "      <th></th>\n",
       "      <th>performance</th>\n",
       "      <th>design</th>\n",
       "      <th>engine</th>\n",
       "      <th>handling</th>\n",
       "      <th>fuel</th>\n",
       "    </tr>\n",
       "  </thead>\n",
       "  <tbody>\n",
       "    <tr>\n",
       "      <td>honda</td>\n",
       "      <td>1.19233</td>\n",
       "      <td>1.25038</td>\n",
       "      <td>1.28869</td>\n",
       "      <td>1.21005</td>\n",
       "      <td>1.19211</td>\n",
       "    </tr>\n",
       "    <tr>\n",
       "      <td>ford</td>\n",
       "      <td>1.08979</td>\n",
       "      <td>1.17398</td>\n",
       "      <td>1.60476</td>\n",
       "      <td>1.3405</td>\n",
       "      <td>1.26646</td>\n",
       "    </tr>\n",
       "    <tr>\n",
       "      <td>toyota</td>\n",
       "      <td>1.1212</td>\n",
       "      <td>1.23354</td>\n",
       "      <td>1.36126</td>\n",
       "      <td>1.21969</td>\n",
       "      <td>1.26662</td>\n",
       "    </tr>\n",
       "    <tr>\n",
       "      <td>hyundai</td>\n",
       "      <td>1.13668</td>\n",
       "      <td>1.4445</td>\n",
       "      <td>1.20789</td>\n",
       "      <td>1.0926</td>\n",
       "      <td>0.998643</td>\n",
       "    </tr>\n",
       "    <tr>\n",
       "      <td>nissan</td>\n",
       "      <td>1.16288</td>\n",
       "      <td>1.4019</td>\n",
       "      <td>1.43964</td>\n",
       "      <td>1.25564</td>\n",
       "      <td>1.2706</td>\n",
       "    </tr>\n",
       "  </tbody>\n",
       "</table>\n",
       "</div>"
      ],
      "text/plain": [
       "        performance   design   engine handling      fuel\n",
       "honda       1.19233  1.25038  1.28869  1.21005   1.19211\n",
       "ford        1.08979  1.17398  1.60476   1.3405   1.26646\n",
       "toyota       1.1212  1.23354  1.36126  1.21969   1.26662\n",
       "hyundai     1.13668   1.4445  1.20789   1.0926  0.998643\n",
       "nissan      1.16288   1.4019  1.43964  1.25564    1.2706"
      ]
     },
     "execution_count": 33,
     "metadata": {},
     "output_type": "execute_result"
    }
   ],
   "source": [
    "lift_df"
   ]
  },
  {
   "cell_type": "markdown",
   "metadata": {},
   "source": [
    "Because this lift does not take into account lift with individual features, we may have included features that are not significant to any of these brands and that might affect the range of our lift values. So, we shall calculate the lift values for each of the features for these brands and drop off columns that have lift values less than 1 and recalculate brand to attribute lift."
   ]
  },
  {
   "cell_type": "code",
   "execution_count": 71,
   "metadata": {},
   "outputs": [],
   "source": [
    "attr=pd.read_csv('Attributes.csv')"
   ]
  },
  {
   "cell_type": "code",
   "execution_count": 67,
   "metadata": {},
   "outputs": [],
   "source": [
    "stop_words = set(stopwords.words('english')) \n",
    "file['words_check'] = file['lower_message'].apply(word_tokenize)\n",
    " \n",
    "def remove_stopwords(word_tokens):\n",
    "    return [word for word in word_tokens if not word in stop_words] \n",
    "\n",
    "file['final_words_check']=file['words_check'].apply(remove_stopwords)"
   ]
  },
  {
   "cell_type": "code",
   "execution_count": 72,
   "metadata": {},
   "outputs": [],
   "source": [
    "attribute_list=attr['Feature'].unique().tolist()"
   ]
  },
  {
   "cell_type": "code",
   "execution_count": 73,
   "metadata": {},
   "outputs": [],
   "source": [
    "attribute_df=pd.DataFrame(columns=attribute_list)\n",
    "def attribute_lift(msg):\n",
    "    if attribute in msg:\n",
    "        return 1\n",
    "    else:\n",
    "        return 0"
   ]
  },
  {
   "cell_type": "code",
   "execution_count": 74,
   "metadata": {},
   "outputs": [],
   "source": [
    "for attribute in attribute_list:\n",
    "    attribute_df[attribute]=file['final_words_check'].apply(attribute_lift)"
   ]
  },
  {
   "cell_type": "code",
   "execution_count": 75,
   "metadata": {},
   "outputs": [],
   "source": [
    "lift_check_df=pd.DataFrame(columns=attribute_list)\n",
    "for i in range(len(top_brand_list)):\n",
    "    for j in range(len(attribute_list)):\n",
    "        num_check=(top_brand_df[top_brand_list[i]]+attribute_df[attribute_list[j]]>1).sum()\n",
    "        den_check=top_brand_df[top_brand_list[i]].sum()*attribute_df[attribute_list[j]].sum()\n",
    "        lift_check=len(file)*num_check/den_check\n",
    "        lift_check_df.loc[top_brand_list[i],attribute_list[j]]=lift_check"
   ]
  },
  {
   "cell_type": "code",
   "execution_count": 76,
   "metadata": {},
   "outputs": [],
   "source": [
    "#create new attribute list excluding low lift features\n",
    "lift_check_df.to_csv('test_check1.csv')"
   ]
  },
  {
   "cell_type": "markdown",
   "metadata": {},
   "source": [
    "Recalculate lift with final list of attributes"
   ]
  },
  {
   "cell_type": "code",
   "execution_count": 77,
   "metadata": {},
   "outputs": [],
   "source": [
    "attr=pd.read_csv('Attributes_copy.csv')"
   ]
  },
  {
   "cell_type": "code",
   "execution_count": 78,
   "metadata": {},
   "outputs": [],
   "source": [
    "file['change_to_attr']=file['lower_message'].apply(change_to_attr)"
   ]
  },
  {
   "cell_type": "code",
   "execution_count": 79,
   "metadata": {},
   "outputs": [],
   "source": [
    "stop_words = set(stopwords.words('english')) \n",
    "file['attr_words'] = file['change_to_attr'].apply(word_tokenize)\n",
    "file['final_words']=file['attr_words'].apply(remove_stopwords)"
   ]
  },
  {
   "cell_type": "code",
   "execution_count": 80,
   "metadata": {},
   "outputs": [],
   "source": [
    "words_count = []\n",
    "for item in file.index:\n",
    "    words_count = words_count+(file['final_words'][item])"
   ]
  },
  {
   "cell_type": "code",
   "execution_count": 81,
   "metadata": {},
   "outputs": [],
   "source": [
    "attr_frequency = nltk.FreqDist(words_count)"
   ]
  },
  {
   "cell_type": "code",
   "execution_count": 82,
   "metadata": {},
   "outputs": [],
   "source": [
    "attr_list = attr['Attribute'].drop_duplicates().tolist()"
   ]
  },
  {
   "cell_type": "code",
   "execution_count": 83,
   "metadata": {},
   "outputs": [],
   "source": [
    "common_attr = attr_frequency.most_common(3000)\n",
    "top_attr = []\n",
    "for (key,value) in common_attr:\n",
    "    if key in attr_list:\n",
    "        attr_counts = (key,value)\n",
    "        top_attr.append(attr_counts) \n",
    "\n",
    "top_attributes = top_attr[:5]"
   ]
  },
  {
   "cell_type": "code",
   "execution_count": 84,
   "metadata": {},
   "outputs": [],
   "source": [
    "top_attribute_list=[]\n",
    "for key,value in top_attributes:\n",
    "    top_attribute_list.append(key)"
   ]
  },
  {
   "cell_type": "code",
   "execution_count": 85,
   "metadata": {},
   "outputs": [],
   "source": [
    "top_attribute_df=pd.DataFrame(columns=top_attribute_list)\n",
    "for attr in top_attribute_list:\n",
    "    top_attribute_df[attr]=file['attr_words'].apply(attr_lift)"
   ]
  },
  {
   "cell_type": "code",
   "execution_count": 86,
   "metadata": {},
   "outputs": [],
   "source": [
    "top_brand_list=[]\n",
    "for key,value in top_brands[:5]:\n",
    "    top_brand_list.append(key)"
   ]
  },
  {
   "cell_type": "code",
   "execution_count": 87,
   "metadata": {},
   "outputs": [],
   "source": [
    "top_brand_df=pd.DataFrame(columns=top_brand_list)\n",
    "for brand in top_brand_list:\n",
    "    top_brand_df[brand]=file['final'].apply(brand_lift)"
   ]
  },
  {
   "cell_type": "code",
   "execution_count": 88,
   "metadata": {},
   "outputs": [],
   "source": [
    "lift_df=pd.DataFrame(columns=top_attribute_list)\n",
    "for i in range(len(top_brand_list)):\n",
    "    for j in range(len(top_attribute_list)):\n",
    "        num=(top_brand_df[top_brand_list[i]]+top_attribute_df[top_attribute_list[j]]>1).sum()\n",
    "        den=top_brand_df[top_brand_list[i]].sum()*top_attribute_df[top_attribute_list[j]].sum()\n",
    "        lift=len(file)*num/den\n",
    "        lift_df.loc[top_brand_list[i],top_attribute_list[j]]=lift"
   ]
  },
  {
   "cell_type": "code",
   "execution_count": 89,
   "metadata": {},
   "outputs": [
    {
     "data": {
      "text/html": [
       "<div>\n",
       "<style scoped>\n",
       "    .dataframe tbody tr th:only-of-type {\n",
       "        vertical-align: middle;\n",
       "    }\n",
       "\n",
       "    .dataframe tbody tr th {\n",
       "        vertical-align: top;\n",
       "    }\n",
       "\n",
       "    .dataframe thead th {\n",
       "        text-align: right;\n",
       "    }\n",
       "</style>\n",
       "<table border=\"1\" class=\"dataframe\">\n",
       "  <thead>\n",
       "    <tr style=\"text-align: right;\">\n",
       "      <th></th>\n",
       "      <th>design</th>\n",
       "      <th>engine</th>\n",
       "      <th>performance</th>\n",
       "      <th>pricing</th>\n",
       "      <th>size</th>\n",
       "    </tr>\n",
       "  </thead>\n",
       "  <tbody>\n",
       "    <tr>\n",
       "      <td>honda</td>\n",
       "      <td>1.24936</td>\n",
       "      <td>1.32207</td>\n",
       "      <td>1.18732</td>\n",
       "      <td>1.32243</td>\n",
       "      <td>1.27729</td>\n",
       "    </tr>\n",
       "    <tr>\n",
       "      <td>ford</td>\n",
       "      <td>1.18609</td>\n",
       "      <td>1.6169</td>\n",
       "      <td>1.16685</td>\n",
       "      <td>1.11507</td>\n",
       "      <td>1.04366</td>\n",
       "    </tr>\n",
       "    <tr>\n",
       "      <td>toyota</td>\n",
       "      <td>1.25053</td>\n",
       "      <td>1.36024</td>\n",
       "      <td>1.27432</td>\n",
       "      <td>1.51285</td>\n",
       "      <td>1.37643</td>\n",
       "    </tr>\n",
       "    <tr>\n",
       "      <td>hyundai</td>\n",
       "      <td>1.46667</td>\n",
       "      <td>1.24388</td>\n",
       "      <td>1.29555</td>\n",
       "      <td>1.80211</td>\n",
       "      <td>1.33683</td>\n",
       "    </tr>\n",
       "    <tr>\n",
       "      <td>nissan</td>\n",
       "      <td>1.39982</td>\n",
       "      <td>1.48168</td>\n",
       "      <td>1.30656</td>\n",
       "      <td>1.33448</td>\n",
       "      <td>1.4288</td>\n",
       "    </tr>\n",
       "  </tbody>\n",
       "</table>\n",
       "</div>"
      ],
      "text/plain": [
       "          design   engine performance  pricing     size\n",
       "honda    1.24936  1.32207     1.18732  1.32243  1.27729\n",
       "ford     1.18609   1.6169     1.16685  1.11507  1.04366\n",
       "toyota   1.25053  1.36024     1.27432  1.51285  1.37643\n",
       "hyundai  1.46667  1.24388     1.29555  1.80211  1.33683\n",
       "nissan   1.39982  1.48168     1.30656  1.33448   1.4288"
      ]
     },
     "execution_count": 89,
     "metadata": {},
     "output_type": "execute_result"
    }
   ],
   "source": [
    "lift_df"
   ]
  },
  {
   "cell_type": "markdown",
   "metadata": {},
   "source": [
    "## Task D : Insights for product and marketing managers"
   ]
  },
  {
   "cell_type": "markdown",
   "metadata": {},
   "source": [
    "Overall, one would suggest product managers to focus on improving the weaknesses of their brand, and marketing managers to focus on the perceived strengths of the brand in advertising. Following this logic, we would provide the following advise to these employees of the top brands : \n",
    "\n",
    "Honda : Honda sees its lowest lift in performance and design - these are also in the bottom 2 lifts across brands in these categories. So we would advise a product manager to focus on producing models that are best in class in performance metrics(i.e. acceleration, speed, horsepower) and are also visually appealling to consumers. Meanwhile, the marketing managers at the brand should focus on pricing and engine in advertising as Honda sees its highest lift in these top attributes.\n",
    "\n",
    "Ford : Ford sees its highest lift in engine and has the highest lift among the top brands in that category. Therefore, we would suggest not to make many changes to current engine offerings. However, since Ford is lowest in design across the top brands, product managers should work to cater more to consumers wanting sleek designs for their vehicles. On the other hand, the marketing managers should focus on strengths in engine in advertising while also producing campaigns focused to increase positive perception in another top category.\n",
    "\n",
    "Toyota : Across all brands, Toyota lift is middle of the pack in every attribute. We would advise product managers to pick a focus area to increase lift in at least one attribute in order to differentiate themselves from competitors. As for marketing managers, they may want to focus advertising on its highest lift attribute, price, since Toyota does not perform amazingly well on any top attributes.\n",
    "\n",
    "Hyundai : Hyundai performs the highest across brands in price. In fact, this pairing sees the highest lift across all brands and all attributes. On the other hand, Hyundai's lowest lift score in the engine category, is the lowest across brands in that category. So we would advise product managers to spend time producing models with enhanced engine features. Hyundai marketing manager should focus on pricing as this appears to be its major differentiator in the market.\n",
    "\n",
    "Nissan : Nissan sees its highest lifts in size and engine, but has its lowest lift in performance. However, Nissan's lowest lift value of 1.30 is still in the top ranks of lifts across all brands and all attributes. The brand is also the top performer in terms of lift in 3 of the 5 top attributes, hinting to us that Nissan has an edge on the competition in multiple areas. Therefore, the marketing team has many options in terms of advertising focus and can even create tailored campaigns to maintain strongholds in each of its top attributes (size , performance, and engine). This also makes product managers' jobs fairly easy as it appears no vast changes need to be made to its current models."
   ]
  },
  {
   "cell_type": "markdown",
   "metadata": {},
   "source": [
    "## Task E : Which is the most aspirational brand in your data in terms of people actually wanting to buy or own?"
   ]
  },
  {
   "cell_type": "markdown",
   "metadata": {},
   "source": [
    "Analysis : For this analysis, we first looked at bigrams present in our messages to determine a baseline of aspirational phrases. This list included phrases such as 'want to' and 'would like'. We then calculated individual lifts of these phrases with each brand. Then for each brand, we assess the total lift across each phrase to compare aspirational lift among brands."
   ]
  },
  {
   "cell_type": "code",
   "execution_count": 35,
   "metadata": {},
   "outputs": [],
   "source": [
    "from nltk.util import ngrams\n",
    "from collections import Counter\n",
    "bigrams = list(ngrams(words,2))\n",
    "bigrams\n",
    "bigram_frequency = nltk.FreqDist(bigrams)"
   ]
  },
  {
   "cell_type": "code",
   "execution_count": 37,
   "metadata": {},
   "outputs": [],
   "source": [
    "#Assess frequent bigrams for aspirational phrases\n",
    "#bigram_frequency.most_common(400)"
   ]
  },
  {
   "cell_type": "code",
   "execution_count": 38,
   "metadata": {},
   "outputs": [],
   "source": [
    "asp = pd.read_csv('Aspirational words.csv')\n",
    "asp_phrase = asp['Aspiration'].tolist()"
   ]
  },
  {
   "cell_type": "code",
   "execution_count": 54,
   "metadata": {},
   "outputs": [],
   "source": [
    "file['words'] = file['change_to_brand'].apply(word_tokenize)"
   ]
  },
  {
   "cell_type": "code",
   "execution_count": 39,
   "metadata": {},
   "outputs": [],
   "source": [
    "asp_df = pd.DataFrame(columns=asp_phrase) \n",
    "\n",
    "def asp_word_in_comment(msg):\n",
    "    if asp in msg:\n",
    "        return 1\n",
    "    else:\n",
    "        return 0"
   ]
  },
  {
   "cell_type": "code",
   "execution_count": 55,
   "metadata": {},
   "outputs": [],
   "source": [
    "bi_gram = []\n",
    "for item in file['words']:\n",
    "    bigram_item = list(ngrams(item, 2))\n",
    "    bigram_item2 = list(map(lambda x:x[0]+\" \"+x[1], bigram_item))\n",
    "    bi_gram.append(bigram_item2)\n",
    "file['bigram'] = bi_gram\n",
    "file.head()\n",
    "file['uni_bi_gram']=file['words']+file['bigram']"
   ]
  },
  {
   "cell_type": "code",
   "execution_count": 63,
   "metadata": {},
   "outputs": [],
   "source": [
    "for asp in asp_phrase:\n",
    "    asp_df[asp]=file['bigram'].apply(asp_word_in_comment)"
   ]
  },
  {
   "cell_type": "code",
   "execution_count": 56,
   "metadata": {},
   "outputs": [],
   "source": [
    "brand_df = pd.DataFrame(columns=model_list)\n",
    "\n",
    "def brand_in_comment(msg):\n",
    "    if brand in msg:\n",
    "        return 1\n",
    "    else:\n",
    "        return 0"
   ]
  },
  {
   "cell_type": "code",
   "execution_count": 57,
   "metadata": {},
   "outputs": [],
   "source": [
    "for brand in model_list:\n",
    "    brand_df[brand]=file['final'].apply(brand_in_comment)"
   ]
  },
  {
   "cell_type": "code",
   "execution_count": 64,
   "metadata": {},
   "outputs": [
    {
     "name": "stderr",
     "output_type": "stream",
     "text": [
      "C:\\Users\\lasha\\Anaconda2\\envs\\Python 3\\lib\\site-packages\\ipykernel_launcher.py:8: RuntimeWarning: invalid value encountered in longlong_scalars\n",
      "  \n"
     ]
    }
   ],
   "source": [
    "#calculate lift\n",
    "asp_car_lift_df=pd.DataFrame(columns=asp_phrase)\n",
    "\n",
    "for i in range(len(model_list)):\n",
    "    for j in range(len(asp_phrase)):\n",
    "        num=(brand_df[model_list[i]]+asp_df[asp_phrase[j]]>1).sum()\n",
    "        den=brand_df[model_list[i]].sum()*asp_df[asp_phrase[j]].sum()\n",
    "        lift=len(file)*num/den\n",
    "        asp_car_lift_df.loc[model_list[i],asp_phrase[j]]=lift"
   ]
  },
  {
   "cell_type": "code",
   "execution_count": 66,
   "metadata": {},
   "outputs": [
    {
     "data": {
      "text/plain": [
       "lincoln      22.703878\n",
       "saturn       22.228822\n",
       "chevrolet    21.937149\n",
       "mercury      21.778699\n",
       "subaru       21.671008\n",
       "dtype: float64"
      ]
     },
     "execution_count": 66,
     "metadata": {},
     "output_type": "execute_result"
    }
   ],
   "source": [
    "#sum and show\n",
    "asp_car_lift_df.T.sum().sort_values(ascending = False)[:5]\n",
    "#Lincoln the most aspirational brand"
   ]
  },
  {
   "cell_type": "markdown",
   "metadata": {},
   "source": [
    "Business Implications : Given that consumers in the mid-size sedan forum co-mention Lincoln and aspirational phrases the most, the leaders at Lincoln may want to position themselves at the intersection of luxury and accessibility. They want consumers to want them and perceive Lincoln as a high end brand to aspire to, but they also want consumers to think that the brand is within their reach and that they can afford the 'upgrade' to Lincoln. Ensuring that consumers consider the brand accessible to them may keep the buzz going and turn in to actual conversions as soon as that aspiring customer gets that next promotion at work, or meets their financial goals allowing themselves to make the purchase."
   ]
  }
 ],
 "metadata": {
  "kernelspec": {
   "display_name": "Python 3",
   "language": "python",
   "name": "python3"
  },
  "language_info": {
   "codemirror_mode": {
    "name": "ipython",
    "version": 3
   },
   "file_extension": ".py",
   "mimetype": "text/x-python",
   "name": "python",
   "nbconvert_exporter": "python",
   "pygments_lexer": "ipython3",
   "version": "3.7.3"
  }
 },
 "nbformat": 4,
 "nbformat_minor": 2
}
